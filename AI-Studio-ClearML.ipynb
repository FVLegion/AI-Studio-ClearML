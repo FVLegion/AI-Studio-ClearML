{
  "cells": [
    {
      "cell_type": "code",
      "id": "BRLZH1TCt7jLFhocvi2S5q9d",
      "metadata": {
        "tags": [],
        "id": "BRLZH1TCt7jLFhocvi2S5q9d",
        "colab": {
          "base_uri": "https://localhost:8080/"
        },
        "executionInfo": {
          "status": "ok",
          "timestamp": 1743756087974,
          "user_tz": -660,
          "elapsed": 1007,
          "user": {
            "displayName": "",
            "userId": ""
          }
        },
        "outputId": "2b5815f0-a1ee-4878-b831-4df54e27b91f"
      },
      "source": [
        "!git clone https://github.com/Jacoo-Zhao/AI-Studio-ClearML.git"
      ],
      "execution_count": 1,
      "outputs": [
        {
          "output_type": "stream",
          "name": "stdout",
          "text": [
            "Cloning into 'AI-Studio-ClearML'...\n",
            "remote: Enumerating objects: 122, done.\u001b[K\n",
            "remote: Counting objects: 100% (9/9), done.\u001b[K\n",
            "remote: Total 122 (delta 8), reused 8 (delta 8), pack-reused 113 (from 1)\u001b[K\n",
            "Receiving objects: 100% (122/122), 42.73 KiB | 1.94 MiB/s, done.\n",
            "Resolving deltas: 100% (60/60), done.\n"
          ]
        }
      ]
    },
    {
      "cell_type": "code",
      "source": [
        "!pwd"
      ],
      "metadata": {
        "colab": {
          "base_uri": "https://localhost:8080/"
        },
        "id": "yZFvOdEOsBEh",
        "executionInfo": {
          "status": "ok",
          "timestamp": 1743756095979,
          "user_tz": -660,
          "elapsed": 459,
          "user": {
            "displayName": "",
            "userId": ""
          }
        },
        "outputId": "3a1cd585-e4a1-4af9-9fe2-d4731f66a886"
      },
      "id": "yZFvOdEOsBEh",
      "execution_count": 2,
      "outputs": [
        {
          "output_type": "stream",
          "name": "stdout",
          "text": [
            "/content\n"
          ]
        }
      ]
    },
    {
      "cell_type": "code",
      "source": [
        "cd AI-Studio-ClearML/"
      ],
      "metadata": {
        "colab": {
          "base_uri": "https://localhost:8080/"
        },
        "id": "NAqBNH58sBId",
        "executionInfo": {
          "status": "ok",
          "timestamp": 1743756107723,
          "user_tz": -660,
          "elapsed": 436,
          "user": {
            "displayName": "",
            "userId": ""
          }
        },
        "outputId": "fbfefd6b-6206-4ccc-ac8b-4d12ac75d270"
      },
      "id": "NAqBNH58sBId",
      "execution_count": 3,
      "outputs": [
        {
          "output_type": "stream",
          "name": "stdout",
          "text": [
            "/content/AI-Studio-ClearML\n"
          ]
        }
      ]
    },
    {
      "cell_type": "code",
      "source": [
        "ls"
      ],
      "metadata": {
        "colab": {
          "base_uri": "https://localhost:8080/"
        },
        "id": "ks-56-lasBK7",
        "executionInfo": {
          "status": "ok",
          "timestamp": 1743756114092,
          "user_tz": -660,
          "elapsed": 482,
          "user": {
            "displayName": "",
            "userId": ""
          }
        },
        "outputId": "576c8e38-a2f9-4fce-8327-cd54d64887a9"
      },
      "id": "ks-56-lasBK7",
      "execution_count": 4,
      "outputs": [
        {
          "output_type": "stream",
          "name": "stdout",
          "text": [
            "ClearML_Pipeline_Demo.ipynb      \u001b[0m\u001b[01;34mmodel_artifacts\u001b[0m/           step2_data_preprocessing.py\n",
            "demo_functions.py                pipeline_from_tasks.py     step3_train_model.py\n",
            "demo_using_artifacts_example.py  README.md                  \u001b[01;34mwork_dataset\u001b[0m/\n",
            "main.py                          step1_dataset_artifact.py\n"
          ]
        }
      ]
    },
    {
      "cell_type": "code",
      "source": [
        "!pip install clearml"
      ],
      "metadata": {
        "colab": {
          "base_uri": "https://localhost:8080/"
        },
        "id": "MW7PLF2_sBNL",
        "executionInfo": {
          "status": "ok",
          "timestamp": 1743756134460,
          "user_tz": -660,
          "elapsed": 6027,
          "user": {
            "displayName": "",
            "userId": ""
          }
        },
        "outputId": "f88ecdb2-fa36-45a7-f7fb-8a145314d62b"
      },
      "id": "MW7PLF2_sBNL",
      "execution_count": 5,
      "outputs": [
        {
          "output_type": "stream",
          "name": "stdout",
          "text": [
            "Collecting clearml\n",
            "  Downloading clearml-1.18.0-py2.py3-none-any.whl.metadata (18 kB)\n",
            "Requirement already satisfied: attrs>=18.0 in /usr/local/lib/python3.10/dist-packages (from clearml) (24.3.0)\n",
            "Collecting furl>=2.0.0 (from clearml)\n",
            "  Downloading furl-2.1.4-py2.py3-none-any.whl.metadata (25 kB)\n",
            "Requirement already satisfied: jsonschema>=2.6.0 in /usr/local/lib/python3.10/dist-packages (from clearml) (4.23.0)\n",
            "Requirement already satisfied: numpy>=1.10 in /usr/local/lib/python3.10/dist-packages (from clearml) (1.26.4)\n",
            "Collecting pathlib2>=2.3.0 (from clearml)\n",
            "  Downloading pathlib2-2.3.7.post1-py2.py3-none-any.whl.metadata (3.5 kB)\n",
            "Requirement already satisfied: Pillow>=4.1.1 in /usr/local/lib/python3.10/dist-packages (from clearml) (11.1.0)\n",
            "Requirement already satisfied: psutil>=3.4.2 in /usr/local/lib/python3.10/dist-packages (from clearml) (5.9.5)\n",
            "Requirement already satisfied: pyparsing>=2.0.3 in /usr/local/lib/python3.10/dist-packages (from clearml) (3.2.1)\n",
            "Requirement already satisfied: python-dateutil>=2.6.1 in /usr/local/lib/python3.10/dist-packages (from clearml) (2.8.2)\n",
            "Requirement already satisfied: PyYAML>=3.12 in /usr/local/lib/python3.10/dist-packages (from clearml) (6.0.2)\n",
            "Requirement already satisfied: requests>=2.20.0 in /usr/local/lib/python3.10/dist-packages (from clearml) (2.32.3)\n",
            "Requirement already satisfied: six>=1.16.0 in /usr/local/lib/python3.10/dist-packages (from clearml) (1.17.0)\n",
            "Requirement already satisfied: urllib3>=1.21.1 in /usr/local/lib/python3.10/dist-packages (from clearml) (2.3.0)\n",
            "Collecting pyjwt<2.10.0,>=2.4.0 (from clearml)\n",
            "  Downloading PyJWT-2.9.0-py3-none-any.whl.metadata (3.0 kB)\n",
            "Requirement already satisfied: referencing<0.40 in /usr/local/lib/python3.10/dist-packages (from clearml) (0.35.1)\n",
            "Collecting orderedmultidict>=1.0.1 (from furl>=2.0.0->clearml)\n",
            "  Downloading orderedmultidict-1.0.1-py2.py3-none-any.whl.metadata (1.3 kB)\n",
            "Requirement already satisfied: jsonschema-specifications>=2023.03.6 in /usr/local/lib/python3.10/dist-packages (from jsonschema>=2.6.0->clearml) (2024.10.1)\n",
            "Requirement already satisfied: rpds-py>=0.7.1 in /usr/local/lib/python3.10/dist-packages (from jsonschema>=2.6.0->clearml) (0.22.3)\n",
            "Requirement already satisfied: charset-normalizer<4,>=2 in /usr/local/lib/python3.10/dist-packages (from requests>=2.20.0->clearml) (3.4.1)\n",
            "Requirement already satisfied: idna<4,>=2.5 in /usr/local/lib/python3.10/dist-packages (from requests>=2.20.0->clearml) (3.10)\n",
            "Requirement already satisfied: certifi>=2017.4.17 in /usr/local/lib/python3.10/dist-packages (from requests>=2.20.0->clearml) (2024.12.14)\n",
            "Downloading clearml-1.18.0-py2.py3-none-any.whl (1.2 MB)\n",
            "\u001b[2K   \u001b[90m━━━━━━━━━━━━━━━━━━━━━━━━━━━━━━━━━━━━━━━━\u001b[0m \u001b[32m1.2/1.2 MB\u001b[0m \u001b[31m19.7 MB/s\u001b[0m eta \u001b[36m0:00:00\u001b[0m\n",
            "\u001b[?25hDownloading furl-2.1.4-py2.py3-none-any.whl (27 kB)\n",
            "Downloading pathlib2-2.3.7.post1-py2.py3-none-any.whl (18 kB)\n",
            "Downloading PyJWT-2.9.0-py3-none-any.whl (22 kB)\n",
            "Downloading orderedmultidict-1.0.1-py2.py3-none-any.whl (11 kB)\n",
            "Installing collected packages: pyjwt, pathlib2, orderedmultidict, furl, clearml\n",
            "  Attempting uninstall: pyjwt\n",
            "    Found existing installation: PyJWT 2.10.1\n",
            "    Uninstalling PyJWT-2.10.1:\n",
            "      Successfully uninstalled PyJWT-2.10.1\n",
            "Successfully installed clearml-1.18.0 furl-2.1.4 orderedmultidict-1.0.1 pathlib2-2.3.7.post1 pyjwt-2.9.0\n"
          ]
        }
      ]
    },
    {
      "cell_type": "code",
      "source": [
        "!clearml-init"
      ],
      "metadata": {
        "colab": {
          "base_uri": "https://localhost:8080/"
        },
        "id": "fOKk9LibsBPN",
        "executionInfo": {
          "status": "ok",
          "timestamp": 1743756984430,
          "user_tz": -660,
          "elapsed": 6330,
          "user": {
            "displayName": "",
            "userId": ""
          }
        },
        "outputId": "3f9a4be0-08e4-408a-b661-6190880d4f00"
      },
      "id": "fOKk9LibsBPN",
      "execution_count": 15,
      "outputs": [
        {
          "output_type": "stream",
          "name": "stdout",
          "text": [
            "ClearML SDK setup process\n",
            "Configuration file already exists: /root/clearml.conf\n",
            "Leaving setup, feel free to edit the configuration file.\n"
          ]
        }
      ]
    },
    {
      "cell_type": "code",
      "source": [
        "!python /content/AI-Studio-ClearML/step1_dataset_artifact.py"
      ],
      "metadata": {
        "colab": {
          "base_uri": "https://localhost:8080/"
        },
        "id": "Yti93S8XsBTI",
        "executionInfo": {
          "status": "ok",
          "timestamp": 1743759486116,
          "user_tz": -660,
          "elapsed": 30422,
          "user": {
            "displayName": "",
            "userId": ""
          }
        },
        "outputId": "16cf16f5-874a-4ecf-b969-4d01440380c4"
      },
      "id": "Yti93S8XsBTI",
      "execution_count": 22,
      "outputs": [
        {
          "output_type": "stream",
          "name": "stdout",
          "text": [
            "ClearML Task: created new task id=bbf4ff8a763c473484cee01f9f20112c\n",
            "2025-04-04 09:37:45.722550: E external/local_xla/xla/stream_executor/cuda/cuda_fft.cc:485] Unable to register cuFFT factory: Attempting to register factory for plugin cuFFT when one has already been registered\n",
            "2025-04-04 09:37:45.764494: E external/local_xla/xla/stream_executor/cuda/cuda_dnn.cc:8454] Unable to register cuDNN factory: Attempting to register factory for plugin cuDNN when one has already been registered\n",
            "2025-04-04 09:37:45.776420: E external/local_xla/xla/stream_executor/cuda/cuda_blas.cc:1452] Unable to register cuBLAS factory: Attempting to register factory for plugin cuBLAS when one has already been registered\n",
            "2025-04-04 09:37:45.812684: I tensorflow/core/platform/cpu_feature_guard.cc:210] This TensorFlow binary is optimized to use available CPU instructions in performance-critical operations.\n",
            "To enable the following instructions: AVX2 FMA, in other operations, rebuild TensorFlow with the appropriate compiler flags.\n",
            "2025-04-04 09:37:48.041105: W tensorflow/compiler/tf2tensorrt/utils/py_utils.cc:38] TF-TRT Warning: Could not find TensorRT\n",
            "ClearML results page: https://app.clear.ml/projects/9414e880061d4fb3b642ca0ac8947260/experiments/bbf4ff8a763c473484cee01f9f20112c/output/log\n",
            "ClearML Monitor: GPU monitoring failed getting GPU reading, switching off GPU monitoring\n",
            "ClearML Terminating local execution process - continuing execution remotely\n"
          ]
        }
      ]
    },
    {
      "cell_type": "code",
      "source": [
        "!python /content/AI-Studio-ClearML/step2_data_preprocessing.py"
      ],
      "metadata": {
        "colab": {
          "base_uri": "https://localhost:8080/"
        },
        "id": "dn2PH1bQuCW6",
        "executionInfo": {
          "status": "ok",
          "timestamp": 1743759514380,
          "user_tz": -660,
          "elapsed": 28270,
          "user": {
            "displayName": "",
            "userId": ""
          }
        },
        "outputId": "f15c6312-0f47-4238-f63e-169ca2487ea8"
      },
      "id": "dn2PH1bQuCW6",
      "execution_count": 23,
      "outputs": [
        {
          "output_type": "stream",
          "name": "stdout",
          "text": [
            "ClearML Task: created new task id=3c65bb6f5e464d8d9de328a16a9e374e\n",
            "2025-04-04 09:38:14.701620: E external/local_xla/xla/stream_executor/cuda/cuda_fft.cc:485] Unable to register cuFFT factory: Attempting to register factory for plugin cuFFT when one has already been registered\n",
            "2025-04-04 09:38:14.729412: E external/local_xla/xla/stream_executor/cuda/cuda_dnn.cc:8454] Unable to register cuDNN factory: Attempting to register factory for plugin cuDNN when one has already been registered\n",
            "2025-04-04 09:38:14.738426: E external/local_xla/xla/stream_executor/cuda/cuda_blas.cc:1452] Unable to register cuBLAS factory: Attempting to register factory for plugin cuBLAS when one has already been registered\n",
            "2025-04-04 09:38:14.758020: I tensorflow/core/platform/cpu_feature_guard.cc:210] This TensorFlow binary is optimized to use available CPU instructions in performance-critical operations.\n",
            "To enable the following instructions: AVX2 FMA, in other operations, rebuild TensorFlow with the appropriate compiler flags.\n",
            "2025-04-04 09:38:16.368024: W tensorflow/compiler/tf2tensorrt/utils/py_utils.cc:38] TF-TRT Warning: Could not find TensorRT\n",
            "ClearML results page: https://app.clear.ml/projects/9414e880061d4fb3b642ca0ac8947260/experiments/3c65bb6f5e464d8d9de328a16a9e374e/output/log\n",
            "Arguments: {'dataset_task_id': '42ec02924ee141a2bc5b788c34e4e34d', 'random_state': 42, 'test_size': 0.2}\n",
            "ClearML Monitor: GPU monitoring failed getting GPU reading, switching off GPU monitoring\n",
            "ClearML Terminating local execution process - continuing execution remotely\n"
          ]
        }
      ]
    },
    {
      "cell_type": "code",
      "source": [
        "!python /content/AI-Studio-ClearML/step3_train_model.py"
      ],
      "metadata": {
        "colab": {
          "base_uri": "https://localhost:8080/"
        },
        "id": "vAY3ayM8uCg3",
        "executionInfo": {
          "status": "ok",
          "timestamp": 1743759570568,
          "user_tz": -660,
          "elapsed": 28198,
          "user": {
            "displayName": "",
            "userId": ""
          }
        },
        "outputId": "cd09153e-d7ba-4f14-a576-fbd8f90622b1"
      },
      "id": "vAY3ayM8uCg3",
      "execution_count": 25,
      "outputs": [
        {
          "output_type": "stream",
          "name": "stdout",
          "text": [
            "ClearML Task: created new task id=7f387df86731464192b6f3d5e5cf9d7b\n",
            "2025-04-04 09:39:10.876616: E external/local_xla/xla/stream_executor/cuda/cuda_fft.cc:485] Unable to register cuFFT factory: Attempting to register factory for plugin cuFFT when one has already been registered\n",
            "2025-04-04 09:39:10.903303: E external/local_xla/xla/stream_executor/cuda/cuda_dnn.cc:8454] Unable to register cuDNN factory: Attempting to register factory for plugin cuDNN when one has already been registered\n",
            "2025-04-04 09:39:10.911003: E external/local_xla/xla/stream_executor/cuda/cuda_blas.cc:1452] Unable to register cuBLAS factory: Attempting to register factory for plugin cuBLAS when one has already been registered\n",
            "2025-04-04 09:39:10.930139: I tensorflow/core/platform/cpu_feature_guard.cc:210] This TensorFlow binary is optimized to use available CPU instructions in performance-critical operations.\n",
            "To enable the following instructions: AVX2 FMA, in other operations, rebuild TensorFlow with the appropriate compiler flags.\n",
            "2025-04-04 09:39:12.896656: W tensorflow/compiler/tf2tensorrt/utils/py_utils.cc:38] TF-TRT Warning: Could not find TensorRT\n",
            "ClearML results page: https://app.clear.ml/projects/9414e880061d4fb3b642ca0ac8947260/experiments/7f387df86731464192b6f3d5e5cf9d7b/output/log\n",
            "ClearML Monitor: GPU monitoring failed getting GPU reading, switching off GPU monitoring\n",
            "ClearML Terminating local execution process - continuing execution remotely\n"
          ]
        }
      ]
    },
    {
      "cell_type": "code",
      "source": [
        "ls"
      ],
      "metadata": {
        "colab": {
          "base_uri": "https://localhost:8080/"
        },
        "id": "E1o1KyZPAxik",
        "executionInfo": {
          "status": "ok",
          "timestamp": 1743756959273,
          "user_tz": -660,
          "elapsed": 427,
          "user": {
            "displayName": "",
            "userId": ""
          }
        },
        "outputId": "465db99b-233e-434f-ca37-bf32bf402f09"
      },
      "id": "E1o1KyZPAxik",
      "execution_count": 14,
      "outputs": [
        {
          "output_type": "stream",
          "name": "stdout",
          "text": [
            "ClearML_Pipeline_Demo.ipynb      \u001b[0m\u001b[01;34mmodel_artifacts\u001b[0m/           step2_data_preprocessing.py\n",
            "demo_functions.py                pipeline_from_tasks.py     step3_train_model.py\n",
            "demo_using_artifacts_example.py  README.md                  \u001b[01;34mwork_dataset\u001b[0m/\n",
            "main.py                          step1_dataset_artifact.py\n"
          ]
        }
      ]
    },
    {
      "cell_type": "code",
      "source": [],
      "metadata": {
        "id": "kvGx0JGhuCiy",
        "executionInfo": {
          "status": "ok",
          "timestamp": 1743757112351,
          "user_tz": -660,
          "elapsed": 6023,
          "user": {
            "displayName": "",
            "userId": ""
          }
        }
      },
      "id": "kvGx0JGhuCiy",
      "execution_count": 20,
      "outputs": []
    },
    {
      "cell_type": "code",
      "source": [
        "!python main.py"
      ],
      "metadata": {
        "id": "KHNoCjYuuCkr",
        "colab": {
          "base_uri": "https://localhost:8080/"
        },
        "executionInfo": {
          "status": "ok",
          "timestamp": 1743759791273,
          "user_tz": -660,
          "elapsed": 220708,
          "user": {
            "displayName": "",
            "userId": ""
          }
        },
        "outputId": "2c0422f0-8cf5-446f-fea5-edbe23df0f8e"
      },
      "id": "KHNoCjYuuCkr",
      "execution_count": 26,
      "outputs": [
        {
          "output_type": "stream",
          "name": "stdout",
          "text": [
            "Hi, AI Studio\n",
            "ClearML Task: created new task id=c68e045b477d469580ca0dda5d71297e\n",
            "2025-04-04 09:39:38.718411: E external/local_xla/xla/stream_executor/cuda/cuda_fft.cc:485] Unable to register cuFFT factory: Attempting to register factory for plugin cuFFT when one has already been registered\n",
            "2025-04-04 09:39:38.745466: E external/local_xla/xla/stream_executor/cuda/cuda_dnn.cc:8454] Unable to register cuDNN factory: Attempting to register factory for plugin cuDNN when one has already been registered\n",
            "2025-04-04 09:39:38.753267: E external/local_xla/xla/stream_executor/cuda/cuda_blas.cc:1452] Unable to register cuBLAS factory: Attempting to register factory for plugin cuBLAS when one has already been registered\n",
            "2025-04-04 09:39:38.772480: I tensorflow/core/platform/cpu_feature_guard.cc:210] This TensorFlow binary is optimized to use available CPU instructions in performance-critical operations.\n",
            "To enable the following instructions: AVX2 FMA, in other operations, rebuild TensorFlow with the appropriate compiler flags.\n",
            "2025-04-04 09:39:40.771060: W tensorflow/compiler/tf2tensorrt/utils/py_utils.cc:38] TF-TRT Warning: Could not find TensorRT\n",
            "ClearML results page: https://app.clear.ml/projects/7e9a99019dc44dcca8fac1286467733c/experiments/c68e045b477d469580ca0dda5d71297e/output/log\n",
            "ClearML pipeline page: https://app.clear.ml/pipelines/7e9a99019dc44dcca8fac1286467733c/experiments/c68e045b477d469580ca0dda5d71297e\n",
            "2025-04-04 09:39:48,754 - clearml.util - WARNING - 2 task found when searching for `{'project_name': 'examples', 'task_name': 'Pipeline step 3 train model', 'include_archived': True, 'task_filter': {'status': ['created', 'queued', 'in_progress', 'published', 'stopped', 'completed', 'closed']}}`\n",
            "2025-04-04 09:39:48,755 - clearml.util - WARNING - Selected task `Pipeline step 3 train model` (id=7f387df86731464192b6f3d5e5cf9d7b)\n",
            "Launching the next 1 steps\n",
            "Launching step [stage_data]\n",
            "Launching step: stage_data\n",
            "Parameters:\n",
            "None\n",
            "Configurations:\n",
            "{}\n",
            "Overrides:\n",
            "{}\n",
            "Launching the next 1 steps\n",
            "Launching step [stage_process]\n",
            "Launching step: stage_process\n",
            "Parameters:\n",
            "{'General/dataset_task_id': '${stage_data.id}', 'General/test_size': 0.25, 'General/random_state': 42}\n",
            "Configurations:\n",
            "{}\n",
            "Overrides:\n",
            "{}\n",
            "Launching the next 1 steps\n",
            "Launching step [stage_train]\n",
            "Launching step: stage_train\n",
            "Parameters:\n",
            "{'General/dataset_task_id': '${stage_process.id}'}\n",
            "Configurations:\n",
            "{}\n",
            "Overrides:\n",
            "{}\n",
            "Launching the next 0 steps\n",
            "done\n"
          ]
        }
      ]
    },
    {
      "cell_type": "code",
      "source": [],
      "metadata": {
        "id": "tXtFYDHbuCm4"
      },
      "id": "tXtFYDHbuCm4",
      "execution_count": null,
      "outputs": []
    },
    {
      "cell_type": "code",
      "source": [],
      "metadata": {
        "id": "l4CA0xbRuCow"
      },
      "id": "l4CA0xbRuCow",
      "execution_count": null,
      "outputs": []
    }
  ],
  "metadata": {
    "kernelspec": {
      "display_name": "Python 3",
      "language": "python",
      "name": "python3"
    },
    "language_info": {
      "codemirror_mode": {
        "name": "ipython",
        "version": 3
      },
      "file_extension": ".py",
      "mimetype": "text/x-python",
      "name": "python",
      "nbconvert_exporter": "python",
      "pygments_lexer": "ipython3",
      "version": "3.10.10"
    },
    "colab": {
      "provenance": [],
      "name": "AI-Studio-ClearML"
    }
  },
  "nbformat": 4,
  "nbformat_minor": 5
}
