{
  "cells": [
    {
      "cell_type": "code",
      "id": "sFi2klmSCM0uHzUGeZiI2Cgv",
      "metadata": {
        "tags": [],
        "id": "sFi2klmSCM0uHzUGeZiI2Cgv",
        "colab": {
          "base_uri": "https://localhost:8080/"
        },
        "executionInfo": {
          "status": "ok",
          "timestamp": 1743756671681,
          "user_tz": -660,
          "elapsed": 3675,
          "user": {
            "displayName": "",
            "userId": ""
          }
        },
        "outputId": "43d3bd69-e8a8-472a-a953-669ef2cc0f1d"
      },
      "source": [
        "!pip install clearml"
      ],
      "execution_count": 1,
      "outputs": [
        {
          "output_type": "stream",
          "name": "stdout",
          "text": [
            "Requirement already satisfied: clearml in /usr/local/lib/python3.10/dist-packages (1.18.0)\n",
            "Requirement already satisfied: attrs>=18.0 in /usr/local/lib/python3.10/dist-packages (from clearml) (24.3.0)\n",
            "Requirement already satisfied: furl>=2.0.0 in /usr/local/lib/python3.10/dist-packages (from clearml) (2.1.4)\n",
            "Requirement already satisfied: jsonschema>=2.6.0 in /usr/local/lib/python3.10/dist-packages (from clearml) (4.23.0)\n",
            "Requirement already satisfied: numpy>=1.10 in /usr/local/lib/python3.10/dist-packages (from clearml) (1.26.4)\n",
            "Requirement already satisfied: pathlib2>=2.3.0 in /usr/local/lib/python3.10/dist-packages (from clearml) (2.3.7.post1)\n",
            "Requirement already satisfied: Pillow>=4.1.1 in /usr/local/lib/python3.10/dist-packages (from clearml) (11.1.0)\n",
            "Requirement already satisfied: psutil>=3.4.2 in /usr/local/lib/python3.10/dist-packages (from clearml) (5.9.5)\n",
            "Requirement already satisfied: pyparsing>=2.0.3 in /usr/local/lib/python3.10/dist-packages (from clearml) (3.2.1)\n",
            "Requirement already satisfied: python-dateutil>=2.6.1 in /usr/local/lib/python3.10/dist-packages (from clearml) (2.8.2)\n",
            "Requirement already satisfied: PyYAML>=3.12 in /usr/local/lib/python3.10/dist-packages (from clearml) (6.0.2)\n",
            "Requirement already satisfied: requests>=2.20.0 in /usr/local/lib/python3.10/dist-packages (from clearml) (2.32.3)\n",
            "Requirement already satisfied: six>=1.16.0 in /usr/local/lib/python3.10/dist-packages (from clearml) (1.17.0)\n",
            "Requirement already satisfied: urllib3>=1.21.1 in /usr/local/lib/python3.10/dist-packages (from clearml) (2.3.0)\n",
            "Requirement already satisfied: pyjwt<2.10.0,>=2.4.0 in /usr/local/lib/python3.10/dist-packages (from clearml) (2.9.0)\n",
            "Requirement already satisfied: referencing<0.40 in /usr/local/lib/python3.10/dist-packages (from clearml) (0.35.1)\n",
            "Requirement already satisfied: orderedmultidict>=1.0.1 in /usr/local/lib/python3.10/dist-packages (from furl>=2.0.0->clearml) (1.0.1)\n",
            "Requirement already satisfied: jsonschema-specifications>=2023.03.6 in /usr/local/lib/python3.10/dist-packages (from jsonschema>=2.6.0->clearml) (2024.10.1)\n",
            "Requirement already satisfied: rpds-py>=0.7.1 in /usr/local/lib/python3.10/dist-packages (from jsonschema>=2.6.0->clearml) (0.22.3)\n",
            "Requirement already satisfied: charset-normalizer<4,>=2 in /usr/local/lib/python3.10/dist-packages (from requests>=2.20.0->clearml) (3.4.1)\n",
            "Requirement already satisfied: idna<4,>=2.5 in /usr/local/lib/python3.10/dist-packages (from requests>=2.20.0->clearml) (3.10)\n",
            "Requirement already satisfied: certifi>=2017.4.17 in /usr/local/lib/python3.10/dist-packages (from requests>=2.20.0->clearml) (2024.12.14)\n"
          ]
        }
      ]
    },
    {
      "cell_type": "code",
      "source": [
        "!pip install clearml-agent"
      ],
      "metadata": {
        "id": "bVEsKdsqyJmX",
        "colab": {
          "base_uri": "https://localhost:8080/"
        },
        "executionInfo": {
          "status": "ok",
          "timestamp": 1743756712070,
          "user_tz": -660,
          "elapsed": 3271,
          "user": {
            "displayName": "",
            "userId": ""
          }
        },
        "outputId": "d9448f6e-bdc3-4363-8f27-5792633a6399"
      },
      "id": "bVEsKdsqyJmX",
      "execution_count": 1,
      "outputs": [
        {
          "output_type": "stream",
          "name": "stdout",
          "text": [
            "Requirement already satisfied: clearml-agent in /usr/local/lib/python3.10/dist-packages (1.9.3)\n",
            "Requirement already satisfied: attrs<24.0.0,>=18.0 in /usr/local/lib/python3.10/dist-packages (from clearml-agent) (23.2.0)\n",
            "Requirement already satisfied: furl<2.2.0,>=2.0.0 in /usr/local/lib/python3.10/dist-packages (from clearml-agent) (2.1.4)\n",
            "Requirement already satisfied: jsonschema<5.0.0,>=2.6.0 in /usr/local/lib/python3.10/dist-packages (from clearml-agent) (4.23.0)\n",
            "Requirement already satisfied: pathlib2<2.4.0,>=2.3.0 in /usr/local/lib/python3.10/dist-packages (from clearml-agent) (2.3.7.post1)\n",
            "Requirement already satisfied: psutil<5.10.0,>=3.4.2 in /usr/local/lib/python3.10/dist-packages (from clearml-agent) (5.9.5)\n",
            "Requirement already satisfied: pyparsing<3.2.0,>=2.0.3 in /usr/local/lib/python3.10/dist-packages (from clearml-agent) (3.1.4)\n",
            "Requirement already satisfied: python-dateutil<2.9.0,>=2.4.2 in /usr/local/lib/python3.10/dist-packages (from clearml-agent) (2.8.2)\n",
            "Requirement already satisfied: pyjwt<2.9.0,>=2.4.0 in /usr/local/lib/python3.10/dist-packages (from clearml-agent) (2.8.0)\n",
            "Requirement already satisfied: PyYAML<6.1,>=3.12 in /usr/local/lib/python3.10/dist-packages (from clearml-agent) (6.0.2)\n",
            "Requirement already satisfied: requests<=2.31.0,>=2.20.0 in /usr/local/lib/python3.10/dist-packages (from clearml-agent) (2.31.0)\n",
            "Requirement already satisfied: six<1.17.0,>=1.13.0 in /usr/local/lib/python3.10/dist-packages (from clearml-agent) (1.16.0)\n",
            "Requirement already satisfied: urllib3<2,>=1.21.1 in /usr/local/lib/python3.10/dist-packages (from clearml-agent) (1.26.20)\n",
            "Requirement already satisfied: virtualenv<21,>=16 in /usr/local/lib/python3.10/dist-packages (from clearml-agent) (20.29.3)\n",
            "Requirement already satisfied: orderedmultidict>=1.0.1 in /usr/local/lib/python3.10/dist-packages (from furl<2.2.0,>=2.0.0->clearml-agent) (1.0.1)\n",
            "Requirement already satisfied: jsonschema-specifications>=2023.03.6 in /usr/local/lib/python3.10/dist-packages (from jsonschema<5.0.0,>=2.6.0->clearml-agent) (2024.10.1)\n",
            "Requirement already satisfied: referencing>=0.28.4 in /usr/local/lib/python3.10/dist-packages (from jsonschema<5.0.0,>=2.6.0->clearml-agent) (0.35.1)\n",
            "Requirement already satisfied: rpds-py>=0.7.1 in /usr/local/lib/python3.10/dist-packages (from jsonschema<5.0.0,>=2.6.0->clearml-agent) (0.22.3)\n",
            "Requirement already satisfied: charset-normalizer<4,>=2 in /usr/local/lib/python3.10/dist-packages (from requests<=2.31.0,>=2.20.0->clearml-agent) (3.4.1)\n",
            "Requirement already satisfied: idna<4,>=2.5 in /usr/local/lib/python3.10/dist-packages (from requests<=2.31.0,>=2.20.0->clearml-agent) (3.10)\n",
            "Requirement already satisfied: certifi>=2017.4.17 in /usr/local/lib/python3.10/dist-packages (from requests<=2.31.0,>=2.20.0->clearml-agent) (2024.12.14)\n",
            "Requirement already satisfied: distlib<1,>=0.3.7 in /usr/local/lib/python3.10/dist-packages (from virtualenv<21,>=16->clearml-agent) (0.3.9)\n",
            "Requirement already satisfied: filelock<4,>=3.12.2 in /usr/local/lib/python3.10/dist-packages (from virtualenv<21,>=16->clearml-agent) (3.16.1)\n",
            "Requirement already satisfied: platformdirs<5,>=3.9.1 in /usr/local/lib/python3.10/dist-packages (from virtualenv<21,>=16->clearml-agent) (4.3.6)\n"
          ]
        }
      ]
    },
    {
      "cell_type": "code",
      "source": [
        "!clearml-agent init"
      ],
      "metadata": {
        "colab": {
          "base_uri": "https://localhost:8080/"
        },
        "id": "3891OJGvyJoL",
        "executionInfo": {
          "status": "ok",
          "timestamp": 1743756719723,
          "user_tz": -660,
          "elapsed": 2019,
          "user": {
            "displayName": "",
            "userId": ""
          }
        },
        "outputId": "9a9245fc-bc83-4b0a-e0da-3cd3fb9799ea"
      },
      "id": "3891OJGvyJoL",
      "execution_count": 2,
      "outputs": [
        {
          "output_type": "stream",
          "name": "stdout",
          "text": [
            "CLEARML-AGENT setup process\n",
            "Configuration file already exists: /root/clearml.conf\n",
            "Leaving setup. If you've previously initialized the ClearML SDK on this machine, manually add an 'agent' section to this file.\n"
          ]
        }
      ]
    },
    {
      "cell_type": "code",
      "source": [
        "!clearml-agent daemon --queue \"pipeline\" --detached\n",
        "## To stop /kill the queue, you need make run another command: !clearml-agent daemon --queue \"pipeline\" --detached --stop"
      ],
      "metadata": {
        "colab": {
          "base_uri": "https://localhost:8080/"
        },
        "id": "hUEWSmACyJsV",
        "outputId": "685e985d-ead4-4e3e-8dc0-fee964e41d0c"
      },
      "id": "hUEWSmACyJsV",
      "execution_count": null,
      "outputs": [
        {
          "output_type": "stream",
          "name": "stdout",
          "text": [
            "Current configuration (clearml_agent v1.9.3, location: /root/clearml.conf):\n",
            "----------------------\n",
            "agent.worker_id = \n",
            "agent.worker_name = 4c7b0485376a\n",
            "agent.force_git_ssh_protocol = false\n",
            "agent.python_binary = \n",
            "agent.package_manager.type = pip\n",
            "agent.package_manager.pip_version.0 = <20.2 ; python_version < '3.10'\n",
            "agent.package_manager.pip_version.1 = <22.3 ; python_version >\\= '3.10' and python_version <\\= '3.11'\n",
            "agent.package_manager.pip_version.2 = >\\=23,<24.3 ; python_version >\\= '3.12'\n",
            "agent.package_manager.system_site_packages = false\n",
            "agent.package_manager.force_upgrade = false\n",
            "agent.package_manager.pip_legacy_resolver.0 = >\\=20.3,<24.3\n",
            "agent.package_manager.conda_channels.0 = pytorch\n",
            "agent.package_manager.conda_channels.1 = conda-forge\n",
            "agent.package_manager.conda_channels.2 = nvidia\n",
            "agent.package_manager.conda_channels.3 = defaults\n",
            "agent.package_manager.priority_optional_packages.0 = pygobject\n",
            "agent.package_manager.torch_nightly = false\n",
            "agent.package_manager.poetry_files_from_repo_working_dir = false\n",
            "agent.package_manager.uv_files_from_repo_working_dir = false\n",
            "agent.venvs_dir = /root/.clearml/venvs-builds\n",
            "agent.venvs_cache.max_entries = 10\n",
            "agent.venvs_cache.free_space_threshold_gb = 2.0\n",
            "agent.venvs_cache.path = ~/.clearml/venvs-cache\n",
            "agent.vcs_cache.enabled = true\n",
            "agent.vcs_cache.path = /root/.clearml/vcs-cache\n",
            "agent.venv_update.enabled = false\n",
            "agent.pip_download_cache.enabled = true\n",
            "agent.pip_download_cache.path = /root/.clearml/pip-download-cache\n",
            "agent.translate_ssh = true\n",
            "agent.reload_config = false\n",
            "agent.docker_pip_cache = /root/.clearml/pip-cache\n",
            "agent.docker_apt_cache = /root/.clearml/apt-cache\n",
            "agent.docker_force_pull = false\n",
            "agent.default_docker.image = nvidia/cuda:11.0.3-cudnn8-runtime-ubuntu20.04\n",
            "agent.default_docker.match_rules.0.image = python:3.6-bullseye\n",
            "agent.default_docker.match_rules.0.arguments = --ipc\\=host\n",
            "agent.default_docker.match_rules.0.match.script.binary = python3.6$\n",
            "agent.default_docker.match_rules.1.image = python:3.7-bullseye\n",
            "agent.default_docker.match_rules.1.arguments = --ipc\\=host\n",
            "agent.default_docker.match_rules.1.match.script.binary = python3.7$\n",
            "agent.default_docker.match_rules.2.image = python:3.8-bullseye\n",
            "agent.default_docker.match_rules.2.arguments = --ipc\\=host\n",
            "agent.default_docker.match_rules.2.match.script.binary = python3.8$\n",
            "agent.default_docker.match_rules.3.image = python:3.9-bullseye\n",
            "agent.default_docker.match_rules.3.arguments = --ipc\\=host\n",
            "agent.default_docker.match_rules.3.match.script.binary = python3.9$\n",
            "agent.default_docker.match_rules.4.image = python:3.10-bullseye\n",
            "agent.default_docker.match_rules.4.arguments = --ipc\\=host\n",
            "agent.default_docker.match_rules.4.match.script.binary = python3.10$\n",
            "agent.default_docker.match_rules.5.image = python:3.11-bullseye\n",
            "agent.default_docker.match_rules.5.arguments = --ipc\\=host\n",
            "agent.default_docker.match_rules.5.match.script.binary = python3.11$\n",
            "agent.default_docker.match_rules.6.image = python:3.12-bullseye\n",
            "agent.default_docker.match_rules.6.arguments = --ipc\\=host\n",
            "agent.default_docker.match_rules.6.match.script.binary = python3.12$\n",
            "agent.enable_task_env = false\n",
            "agent.sanitize_config_printout = ****\n",
            "agent.hide_docker_command_env_vars.enabled = true\n",
            "agent.hide_docker_command_env_vars.parse_embedded_urls = true\n",
            "agent.abort_callback_max_timeout = 1800\n",
            "agent.docker_internal_mounts.sdk_cache = /clearml_agent_cache\n",
            "agent.docker_internal_mounts.apt_cache = /var/cache/apt/archives\n",
            "agent.docker_internal_mounts.ssh_folder = ~/.ssh\n",
            "agent.docker_internal_mounts.ssh_ro_folder = /.ssh\n",
            "agent.docker_internal_mounts.pip_cache = /root/.cache/pip\n",
            "agent.docker_internal_mounts.poetry_cache = /root/.cache/pypoetry\n",
            "agent.docker_internal_mounts.vcs_cache = /root/.clearml/vcs-cache\n",
            "agent.docker_internal_mounts.venvs_cache = /root/.clearml/venvs-cache\n",
            "agent.docker_internal_mounts.venv_build = ~/.clearml/venvs-builds\n",
            "agent.docker_internal_mounts.pip_download = /root/.clearml/pip-download-cache\n",
            "agent.apply_environment = true\n",
            "agent.apply_files = true\n",
            "agent.custom_build_script = \n",
            "agent.disable_task_docker_override = false\n",
            "agent.default_python = 3.10\n",
            "agent.cuda_version = 122\n",
            "agent.cudnn_version = 0\n",
            "api.version = 1.5\n",
            "api.verify_certificate = true\n",
            "api.default_version = 1.5\n",
            "api.http.max_req_size = 15728640\n",
            "api.http.retries.total = 240\n",
            "api.http.retries.connect = 240\n",
            "api.http.retries.read = 240\n",
            "api.http.retries.redirect = 240\n",
            "api.http.retries.status = 240\n",
            "api.http.retries.backoff_factor = 1.0\n",
            "api.http.retries.backoff_max = 120.0\n",
            "api.http.wait_on_maintenance_forever = true\n",
            "api.http.pool_maxsize = 512\n",
            "api.http.pool_connections = 512\n",
            "api.auth.token_expiration_threshold_sec = ****\n",
            "api.api_server = https://api.clear.ml\n",
            "api.web_server = https://app.clear.ml/\n",
            "api.files_server = https://files.clear.ml\n",
            "api.credentials.access_key = Q419OHJO61ENTSD9P2ZP100KM66NDB\n",
            "api.credentials.secret_key = ****\n",
            "api.host = https://api.clear.ml\n",
            "sdk.storage.cache.default_base_dir = ~/.clearml/cache\n",
            "sdk.storage.cache.size.min_free_bytes = 10GB\n",
            "sdk.storage.direct_access.0.url = file://*\n",
            "sdk.metrics.file_history_size = 100\n",
            "sdk.metrics.matplotlib_untitled_history_size = 100\n",
            "sdk.metrics.images.format = JPEG\n",
            "sdk.metrics.images.quality = 87\n",
            "sdk.metrics.images.subsampling = 0\n",
            "sdk.metrics.tensorboard_single_series_per_graph = false\n",
            "sdk.network.metrics.file_upload_threads = 4\n",
            "sdk.network.metrics.file_upload_starvation_warning_sec = 120\n",
            "sdk.network.iteration.max_retries_on_server_error = 5\n",
            "sdk.network.iteration.retry_backoff_factor_sec = 10\n",
            "sdk.network.file_upload_retries = 3\n",
            "sdk.aws.s3.key = \n",
            "sdk.aws.s3.secret = ****\n",
            "sdk.aws.s3.region = \n",
            "sdk.aws.s3.use_credentials_chain = false\n",
            "sdk.aws.boto3.pool_connections = 512\n",
            "sdk.aws.boto3.max_multipart_concurrency = 16\n",
            "sdk.aws.boto3.multipart_threshold = 8388608\n",
            "sdk.aws.boto3.multipart_chunksize = 8388608\n",
            "sdk.log.null_log_propagate = false\n",
            "sdk.log.task_log_buffer_capacity = 66\n",
            "sdk.log.disable_urllib3_info = true\n",
            "sdk.development.task_reuse_time_window_in_hours = 72.0\n",
            "sdk.development.vcs_repo_detect_async = true\n",
            "sdk.development.store_uncommitted_code_diff = true\n",
            "sdk.development.support_stopping = true\n",
            "sdk.development.default_output_uri = \n",
            "sdk.development.force_analyze_entire_repo = false\n",
            "sdk.development.suppress_update_message = false\n",
            "sdk.development.detect_with_pip_freeze = false\n",
            "sdk.development.worker.report_period_sec = 2\n",
            "sdk.development.worker.ping_period_sec = 30\n",
            "sdk.development.worker.log_stdout = true\n",
            "sdk.development.worker.report_global_mem_used = false\n",
            "sdk.development.worker.report_event_flush_threshold = 100\n",
            "sdk.development.worker.console_cr_flush_period = 10\n",
            "sdk.development.artifacts.auto_pickle = true\n",
            "sdk.apply_environment = false\n",
            "sdk.apply_files = false\n",
            "\n",
            "Worker \"4c7b0485376a:gpuall\" - Listening to queues:\n",
            "+----------------------------------+----------+-------+\n",
            "| id                               | name     | tags  |\n",
            "+----------------------------------+----------+-------+\n",
            "| 1b1fa27327b146e9add8d830928a324e | pipeline |       |\n",
            "+----------------------------------+----------+-------+\n",
            "\n",
            "Running CLEARML-AGENT daemon in background mode, writing stdout/stderr to /tmp/.clearml_agent_daemon_out5aun4zsy.txt\n"
          ]
        }
      ]
    },
    {
      "cell_type": "code",
      "source": [],
      "metadata": {
        "id": "ggFea0OIyJub"
      },
      "id": "ggFea0OIyJub",
      "execution_count": null,
      "outputs": []
    },
    {
      "cell_type": "code",
      "source": [],
      "metadata": {
        "id": "V-vIY2kWyJwZ"
      },
      "id": "V-vIY2kWyJwZ",
      "execution_count": null,
      "outputs": []
    }
  ],
  "metadata": {
    "kernelspec": {
      "display_name": "Python 3",
      "language": "python",
      "name": "python3"
    },
    "language_info": {
      "codemirror_mode": {
        "name": "ipython",
        "version": 3
      },
      "file_extension": ".py",
      "mimetype": "text/x-python",
      "name": "python",
      "nbconvert_exporter": "python",
      "pygments_lexer": "ipython3",
      "version": "3.10.10"
    },
    "colab": {
      "provenance": [],
      "name": "AI-Studio-Agent"
    }
  },
  "nbformat": 4,
  "nbformat_minor": 5
}
