{
 "cells": [
  {
   "cell_type": "markdown",
   "id": "881fabe4",
   "metadata": {},
   "source": [
    "#  ClearML Pipeline Demo\n",
    "\n",
    "This notebook demonstrates how to build and run a **task-based pipeline** using [ClearML](https://clear.ml), covering:\n",
    "\n",
    "- Upload dataset\n",
    "- Preprocess data\n",
    "- Train a model\n",
    "- Run a full pipeline\n",
    "\n",
    "Make sure `clearml` is installed and initialized with your credentials.\n"
   ]
  },
  {
   "cell_type": "code",
   "execution_count": 3,
   "outputs": [
    {
     "name": "stdout",
     "output_type": "stream",
     "text": [
      "Looking in indexes: https://pypi.tuna.tsinghua.edu.cn/simple\r\n",
      "Requirement already satisfied: clearml in /Users/Ziyi/anaconda3/envs/clearMl/lib/python3.11/site-packages (1.14.3)\r\n",
      "Requirement already satisfied: attrs>=18.0 in /Users/Ziyi/anaconda3/envs/clearMl/lib/python3.11/site-packages (from clearml) (23.2.0)\r\n",
      "Requirement already satisfied: furl>=2.0.0 in /Users/Ziyi/anaconda3/envs/clearMl/lib/python3.11/site-packages (from clearml) (2.1.3)\r\n",
      "Requirement already satisfied: jsonschema>=2.6.0 in /Users/Ziyi/anaconda3/envs/clearMl/lib/python3.11/site-packages (from clearml) (4.23.0)\r\n",
      "Requirement already satisfied: numpy>=1.10 in /Users/Ziyi/anaconda3/envs/clearMl/lib/python3.11/site-packages (from clearml) (1.24.3)\r\n",
      "Requirement already satisfied: pathlib2>=2.3.0 in /Users/Ziyi/anaconda3/envs/clearMl/lib/python3.11/site-packages (from clearml) (2.3.7.post1)\r\n",
      "Requirement already satisfied: Pillow>=4.1.1 in /Users/Ziyi/anaconda3/envs/clearMl/lib/python3.11/site-packages (from clearml) (10.2.0)\r\n",
      "Requirement already satisfied: psutil>=3.4.2 in /Users/Ziyi/anaconda3/envs/clearMl/lib/python3.11/site-packages (from clearml) (5.9.0)\r\n",
      "Requirement already satisfied: pyparsing>=2.0.3 in /Users/Ziyi/anaconda3/envs/clearMl/lib/python3.11/site-packages (from clearml) (3.1.1)\r\n",
      "Requirement already satisfied: python-dateutil>=2.6.1 in /Users/Ziyi/anaconda3/envs/clearMl/lib/python3.11/site-packages (from clearml) (2.8.2)\r\n",
      "Requirement already satisfied: PyYAML>=3.12 in /Users/Ziyi/anaconda3/envs/clearMl/lib/python3.11/site-packages (from clearml) (6.0.1)\r\n",
      "Requirement already satisfied: requests>=2.20.0 in /Users/Ziyi/anaconda3/envs/clearMl/lib/python3.11/site-packages (from clearml) (2.32.3)\r\n",
      "Requirement already satisfied: six>=1.13.0 in /Users/Ziyi/anaconda3/envs/clearMl/lib/python3.11/site-packages (from clearml) (1.16.0)\r\n",
      "Requirement already satisfied: urllib3>=1.21.1 in /Users/Ziyi/anaconda3/envs/clearMl/lib/python3.11/site-packages (from clearml) (1.26.20)\r\n",
      "Requirement already satisfied: pyjwt<2.9.0,>=2.4.0 in /Users/Ziyi/anaconda3/envs/clearMl/lib/python3.11/site-packages (from clearml) (2.8.0)\r\n",
      "Requirement already satisfied: referencing<0.40 in /Users/Ziyi/anaconda3/envs/clearMl/lib/python3.11/site-packages (from clearml) (0.33.0)\r\n",
      "Requirement already satisfied: orderedmultidict>=1.0.1 in /Users/Ziyi/anaconda3/envs/clearMl/lib/python3.11/site-packages (from furl>=2.0.0->clearml) (1.0.1)\r\n",
      "Requirement already satisfied: jsonschema-specifications>=2023.03.6 in /Users/Ziyi/anaconda3/envs/clearMl/lib/python3.11/site-packages (from jsonschema>=2.6.0->clearml) (2023.7.1)\r\n",
      "Requirement already satisfied: rpds-py>=0.7.1 in /Users/Ziyi/anaconda3/envs/clearMl/lib/python3.11/site-packages (from jsonschema>=2.6.0->clearml) (0.18.0)\r\n",
      "Requirement already satisfied: charset-normalizer<4,>=2 in /Users/Ziyi/anaconda3/envs/clearMl/lib/python3.11/site-packages (from requests>=2.20.0->clearml) (3.3.2)\r\n",
      "Requirement already satisfied: idna<4,>=2.5 in /Users/Ziyi/anaconda3/envs/clearMl/lib/python3.11/site-packages (from requests>=2.20.0->clearml) (3.7)\r\n",
      "Requirement already satisfied: certifi>=2017.4.17 in /Users/Ziyi/anaconda3/envs/clearMl/lib/python3.11/site-packages (from requests>=2.20.0->clearml) (2025.1.31)\r\n",
      "Looking in indexes: https://pypi.tuna.tsinghua.edu.cn/simple\r\n",
      "Requirement already satisfied: clearml-agent in /Users/Ziyi/anaconda3/envs/clearMl/lib/python3.11/site-packages (1.9.3)\r\n",
      "Requirement already satisfied: attrs<24.0.0,>=18.0 in /Users/Ziyi/anaconda3/envs/clearMl/lib/python3.11/site-packages (from clearml-agent) (23.2.0)\r\n",
      "Requirement already satisfied: furl<2.2.0,>=2.0.0 in /Users/Ziyi/anaconda3/envs/clearMl/lib/python3.11/site-packages (from clearml-agent) (2.1.3)\r\n",
      "Requirement already satisfied: jsonschema<5.0.0,>=2.6.0 in /Users/Ziyi/anaconda3/envs/clearMl/lib/python3.11/site-packages (from clearml-agent) (4.23.0)\r\n",
      "Requirement already satisfied: pathlib2<2.4.0,>=2.3.0 in /Users/Ziyi/anaconda3/envs/clearMl/lib/python3.11/site-packages (from clearml-agent) (2.3.7.post1)\r\n",
      "Requirement already satisfied: psutil<5.10.0,>=3.4.2 in /Users/Ziyi/anaconda3/envs/clearMl/lib/python3.11/site-packages (from clearml-agent) (5.9.0)\r\n",
      "Requirement already satisfied: pyparsing<3.2.0,>=2.0.3 in /Users/Ziyi/anaconda3/envs/clearMl/lib/python3.11/site-packages (from clearml-agent) (3.1.1)\r\n",
      "Requirement already satisfied: python-dateutil<2.9.0,>=2.4.2 in /Users/Ziyi/anaconda3/envs/clearMl/lib/python3.11/site-packages (from clearml-agent) (2.8.2)\r\n",
      "Requirement already satisfied: pyjwt<2.9.0,>=2.4.0 in /Users/Ziyi/anaconda3/envs/clearMl/lib/python3.11/site-packages (from clearml-agent) (2.8.0)\r\n",
      "Requirement already satisfied: PyYAML<6.1,>=3.12 in /Users/Ziyi/anaconda3/envs/clearMl/lib/python3.11/site-packages (from clearml-agent) (6.0.1)\r\n",
      "Collecting requests<=2.31.0,>=2.20.0 (from clearml-agent)\r\n",
      "  Using cached https://pypi.tuna.tsinghua.edu.cn/packages/70/8e/0e2d847013cb52cd35b38c009bb167a1a26b2ce6cd6965bf26b47bc0bf44/requests-2.31.0-py3-none-any.whl (62 kB)\r\n",
      "Requirement already satisfied: six<1.17.0,>=1.13.0 in /Users/Ziyi/anaconda3/envs/clearMl/lib/python3.11/site-packages (from clearml-agent) (1.16.0)\r\n",
      "Requirement already satisfied: urllib3<2,>=1.21.1 in /Users/Ziyi/anaconda3/envs/clearMl/lib/python3.11/site-packages (from clearml-agent) (1.26.20)\r\n",
      "Requirement already satisfied: virtualenv<21,>=16 in /Users/Ziyi/anaconda3/envs/clearMl/lib/python3.11/site-packages (from clearml-agent) (20.29.3)\r\n",
      "Requirement already satisfied: orderedmultidict>=1.0.1 in /Users/Ziyi/anaconda3/envs/clearMl/lib/python3.11/site-packages (from furl<2.2.0,>=2.0.0->clearml-agent) (1.0.1)\r\n",
      "Requirement already satisfied: jsonschema-specifications>=2023.03.6 in /Users/Ziyi/anaconda3/envs/clearMl/lib/python3.11/site-packages (from jsonschema<5.0.0,>=2.6.0->clearml-agent) (2023.7.1)\r\n",
      "Requirement already satisfied: referencing>=0.28.4 in /Users/Ziyi/anaconda3/envs/clearMl/lib/python3.11/site-packages (from jsonschema<5.0.0,>=2.6.0->clearml-agent) (0.33.0)\r\n",
      "Requirement already satisfied: rpds-py>=0.7.1 in /Users/Ziyi/anaconda3/envs/clearMl/lib/python3.11/site-packages (from jsonschema<5.0.0,>=2.6.0->clearml-agent) (0.18.0)\r\n",
      "Requirement already satisfied: charset-normalizer<4,>=2 in /Users/Ziyi/anaconda3/envs/clearMl/lib/python3.11/site-packages (from requests<=2.31.0,>=2.20.0->clearml-agent) (3.3.2)\r\n",
      "Requirement already satisfied: idna<4,>=2.5 in /Users/Ziyi/anaconda3/envs/clearMl/lib/python3.11/site-packages (from requests<=2.31.0,>=2.20.0->clearml-agent) (3.7)\r\n",
      "Requirement already satisfied: certifi>=2017.4.17 in /Users/Ziyi/anaconda3/envs/clearMl/lib/python3.11/site-packages (from requests<=2.31.0,>=2.20.0->clearml-agent) (2025.1.31)\r\n",
      "Requirement already satisfied: distlib<1,>=0.3.7 in /Users/Ziyi/anaconda3/envs/clearMl/lib/python3.11/site-packages (from virtualenv<21,>=16->clearml-agent) (0.3.9)\r\n",
      "Requirement already satisfied: filelock<4,>=3.12.2 in /Users/Ziyi/anaconda3/envs/clearMl/lib/python3.11/site-packages (from virtualenv<21,>=16->clearml-agent) (3.18.0)\r\n",
      "Requirement already satisfied: platformdirs<5,>=3.9.1 in /Users/Ziyi/anaconda3/envs/clearMl/lib/python3.11/site-packages (from virtualenv<21,>=16->clearml-agent) (3.10.0)\r\n",
      "Installing collected packages: requests\r\n",
      "  Attempting uninstall: requests\r\n",
      "    Found existing installation: requests 2.32.3\r\n",
      "    Uninstalling requests-2.32.3:\r\n",
      "      Successfully uninstalled requests-2.32.3\r\n",
      "\u001B[31mERROR: pip's dependency resolver does not currently take into account all the packages that are installed. This behaviour is the source of the following dependency conflicts.\r\n",
      "tensorflow-macos 2.13.0 requires typing-extensions<4.6.0,>=3.6.6, but you have typing-extensions 4.12.2 which is incompatible.\u001B[0m\u001B[31m\r\n",
      "\u001B[0mSuccessfully installed requests-2.31.0\r\n"
     ]
    }
   ],
   "source": [
    "# ✅ Install ClearML\n",
    "!pip install clearml\n",
    "!pip install clearml-agent"
   ],
   "metadata": {
    "collapsed": false,
    "ExecuteTime": {
     "end_time": "2025-04-03T08:57:07.482997Z",
     "start_time": "2025-04-03T08:56:57.598464Z"
    }
   },
   "id": "7d7ac74be73e5131"
  },
  {
   "cell_type": "code",
   "execution_count": 4,
   "outputs": [
    {
     "name": "stdout",
     "output_type": "stream",
     "text": [
      "ClearML SDK setup process\r\n",
      "Configuration file already exists: /Users/Ziyi/clearml.conf\r\n",
      "Leaving setup, feel free to edit the configuration file.\r\n"
     ]
    }
   ],
   "source": [
    "# ✅ Initialize ClearML (Only run once)\n",
    "!clearml-init"
   ],
   "metadata": {
    "collapsed": false,
    "ExecuteTime": {
     "end_time": "2025-04-03T08:57:13.021670Z",
     "start_time": "2025-04-03T08:57:12.014378Z"
    }
   },
   "id": "a499748be30250a0"
  },
  {
   "cell_type": "markdown",
   "source": [
    "##  Step 1: Upload Dataset as Artifact"
   ],
   "metadata": {
    "collapsed": false
   },
   "id": "577b6adade656d35"
  },
  {
   "cell_type": "code",
   "execution_count": 11,
   "id": "14a2a619",
   "metadata": {
    "ExecuteTime": {
     "end_time": "2025-04-03T10:09:12.733249Z",
     "start_time": "2025-04-03T10:08:50.045668Z"
    }
   },
   "outputs": [
    {
     "name": "stdout",
     "output_type": "stream",
     "text": [
      "ClearML Task: created new task id=42ec02924ee141a2bc5b788c34e4e34d\r\n",
      "ClearML results page: https://app.clear.ml/projects/1a3b93d0d7cc478991695157fa78bea8/experiments/42ec02924ee141a2bc5b788c34e4e34d/output/log\r\n",
      "ClearML Monitor: GPU monitoring failed getting GPU reading, switching off GPU monitoring\r\n",
      "uploading artifacts in the background\r\n",
      "Done\r\n"
     ]
    }
   ],
   "source": [
    "!python step1_dataset_artifact.py"
   ]
  },
  {
   "cell_type": "markdown",
   "id": "4dbce89d",
   "metadata": {},
   "source": [
    "## Step 2: Preprocess Dataset"
   ]
  },
  {
   "cell_type": "code",
   "execution_count": 12,
   "id": "674f2e06",
   "metadata": {
    "ExecuteTime": {
     "end_time": "2025-04-03T10:09:49.131025Z",
     "start_time": "2025-04-03T10:09:17.068495Z"
    }
   },
   "outputs": [
    {
     "name": "stdout",
     "output_type": "stream",
     "text": [
      "ClearML Task: created new task id=d0c40c01d6d84fa7826fa8f44dd7c110\r\n",
      "ClearML results page: https://app.clear.ml/projects/1a3b93d0d7cc478991695157fa78bea8/experiments/d0c40c01d6d84fa7826fa8f44dd7c110/output/log\r\n",
      "ClearML Monitor: GPU monitoring failed getting GPU reading, switching off GPU monitoring\r\n",
      "Arguments: {'dataset_task_id': '42ec02924ee141a2bc5b788c34e4e34d', 'dataset_url': '', 'random_state': 42, 'test_size': 0.2}\r\n",
      "Input task id=42ec02924ee141a2bc5b788c34e4e34d artifacts ['dataset']\r\n",
      "Uploading process dataset\r\n",
      "Notice, artifacts are uploaded in the background\r\n",
      "Done\r\n"
     ]
    }
   ],
   "source": [
    "!python step2_data_preprocessing.py"
   ]
  },
  {
   "cell_type": "markdown",
   "id": "5ae13eab",
   "metadata": {},
   "source": [
    "##  Step 3: Train Model"
   ]
  },
  {
   "cell_type": "code",
   "execution_count": 13,
   "id": "fd5071f1",
   "metadata": {
    "ExecuteTime": {
     "end_time": "2025-04-03T10:11:16.073615Z",
     "start_time": "2025-04-03T10:10:40.338756Z"
    }
   },
   "outputs": [
    {
     "name": "stdout",
     "output_type": "stream",
     "text": [
      "ClearML Task: created new task id=a55b03a1f0864d65aae313f4d3529658\r\n",
      "WARNING:tensorflow:Please fix your imports. Module tensorflow.python.training.tracking.util has been moved to tensorflow.python.checkpoint.checkpoint. The old module will be deleted in version 2.11.\r\n",
      "ClearML results page: https://app.clear.ml/projects/1a3b93d0d7cc478991695157fa78bea8/experiments/a55b03a1f0864d65aae313f4d3529658/output/log\r\n",
      "ClearML Monitor: GPU monitoring failed getting GPU reading, switching off GPU monitoring\r\n",
      "Retrieving Iris dataset\r\n",
      "Iris dataset loaded\r\n",
      "Model trained & stored with accuracy: 0.8000\r\n",
      "Figure(400x300)\r\n",
      "Done\r\n"
     ]
    }
   ],
   "source": [
    "!python step3_train_model.py"
   ]
  },
  {
   "cell_type": "markdown",
   "id": "be94e4c3",
   "metadata": {},
   "source": [
    "##  Set up ClearML Agent & Queue"
   ]
  },
  {
   "cell_type": "markdown",
   "source": [
    "!!! Make sure a queue named 'pipeline' exists\n",
    " You can create a queue from the ClearML Web UI."
   ],
   "metadata": {
    "collapsed": false
   },
   "id": "6019d517a0042e8e"
  },
  {
   "cell_type": "code",
   "execution_count": 26,
   "id": "3acf61a7",
   "metadata": {
    "ExecuteTime": {
     "end_time": "2025-04-03T14:53:07.350290Z",
     "start_time": "2025-04-03T14:53:02.112838Z"
    }
   },
   "outputs": [
    {
     "name": "stdout",
     "output_type": "stream",
     "text": [
      "Current configuration (clearml_agent v1.9.3, location: /Users/Ziyi/clearml.conf):\r\n",
      "----------------------\r\n",
      "agent.worker_id = clearml-agent-mbp-c\r\n",
      "agent.worker_name = brendvidafoxmailcomdeMacBook-Pro.local\r\n",
      "agent.force_git_ssh_protocol = false\r\n",
      "agent.python_binary = \r\n",
      "agent.package_manager.type = pip\r\n",
      "agent.package_manager.pip_version.0 = <20.2 ; python_version < '3.10'\r\n",
      "agent.package_manager.pip_version.1 = <22.3 ; python_version >\\= '3.10' and python_version <\\= '3.11'\r\n",
      "agent.package_manager.pip_version.2 = >\\=23,<24.3 ; python_version >\\= '3.12'\r\n",
      "agent.package_manager.system_site_packages = false\r\n",
      "agent.package_manager.force_upgrade = false\r\n",
      "agent.package_manager.pip_legacy_resolver.0 = >\\=20.3,<24.3\r\n",
      "agent.package_manager.conda_channels.0 = pytorch\r\n",
      "agent.package_manager.conda_channels.1 = conda-forge\r\n",
      "agent.package_manager.conda_channels.2 = nvidia\r\n",
      "agent.package_manager.conda_channels.3 = defaults\r\n",
      "agent.package_manager.priority_optional_packages.0 = pygobject\r\n",
      "agent.package_manager.torch_nightly = false\r\n",
      "agent.package_manager.poetry_files_from_repo_working_dir = false\r\n",
      "agent.package_manager.uv_files_from_repo_working_dir = false\r\n",
      "agent.venvs_dir = /Users/Ziyi/.clearml/venvs-builds\r\n",
      "agent.venvs_cache.max_entries = 10\r\n",
      "agent.venvs_cache.free_space_threshold_gb = 2.0\r\n",
      "agent.venvs_cache.path = ~/.clearml/venvs-cache\r\n",
      "agent.vcs_cache.enabled = true\r\n",
      "agent.vcs_cache.path = /Users/Ziyi/.clearml/vcs-cache\r\n",
      "agent.venv_update.enabled = false\r\n",
      "agent.pip_download_cache.enabled = true\r\n",
      "agent.pip_download_cache.path = /Users/Ziyi/.clearml/pip-download-cache\r\n",
      "agent.translate_ssh = true\r\n",
      "agent.reload_config = false\r\n",
      "agent.docker_pip_cache = /Users/Ziyi/.clearml/pip-cache\r\n",
      "agent.docker_apt_cache = /Users/Ziyi/.clearml/apt-cache\r\n",
      "agent.docker_force_pull = false\r\n",
      "agent.default_docker.image = nvidia/cuda:11.0.3-cudnn8-runtime-ubuntu20.04\r\n",
      "agent.default_docker.match_rules.0.image = python:3.6-bullseye\r\n",
      "agent.default_docker.match_rules.0.arguments = --ipc\\=host\r\n",
      "agent.default_docker.match_rules.0.match.script.binary = python3.6$\r\n",
      "agent.default_docker.match_rules.1.image = python:3.7-bullseye\r\n",
      "agent.default_docker.match_rules.1.arguments = --ipc\\=host\r\n",
      "agent.default_docker.match_rules.1.match.script.binary = python3.7$\r\n",
      "agent.default_docker.match_rules.2.image = python:3.8-bullseye\r\n",
      "agent.default_docker.match_rules.2.arguments = --ipc\\=host\r\n",
      "agent.default_docker.match_rules.2.match.script.binary = python3.8$\r\n",
      "agent.default_docker.match_rules.3.image = python:3.9-bullseye\r\n",
      "agent.default_docker.match_rules.3.arguments = --ipc\\=host\r\n",
      "agent.default_docker.match_rules.3.match.script.binary = python3.9$\r\n",
      "agent.default_docker.match_rules.4.image = python:3.10-bullseye\r\n",
      "agent.default_docker.match_rules.4.arguments = --ipc\\=host\r\n",
      "agent.default_docker.match_rules.4.match.script.binary = python3.10$\r\n",
      "agent.default_docker.match_rules.5.image = python:3.11-bullseye\r\n",
      "agent.default_docker.match_rules.5.arguments = --ipc\\=host\r\n",
      "agent.default_docker.match_rules.5.match.script.binary = python3.11$\r\n",
      "agent.default_docker.match_rules.6.image = python:3.12-bullseye\r\n",
      "agent.default_docker.match_rules.6.arguments = --ipc\\=host\r\n",
      "agent.default_docker.match_rules.6.match.script.binary = python3.12$\r\n",
      "agent.enable_task_env = false\r\n",
      "agent.sanitize_config_printout = ****\r\n",
      "agent.hide_docker_command_env_vars.enabled = true\r\n",
      "agent.hide_docker_command_env_vars.parse_embedded_urls = true\r\n",
      "agent.abort_callback_max_timeout = 1800\r\n",
      "agent.docker_internal_mounts.sdk_cache = /clearml_agent_cache\r\n",
      "agent.docker_internal_mounts.apt_cache = /var/cache/apt/archives\r\n",
      "agent.docker_internal_mounts.ssh_folder = ~/.ssh\r\n",
      "agent.docker_internal_mounts.ssh_ro_folder = /.ssh\r\n",
      "agent.docker_internal_mounts.pip_cache = /root/.cache/pip\r\n",
      "agent.docker_internal_mounts.poetry_cache = /root/.cache/pypoetry\r\n",
      "agent.docker_internal_mounts.vcs_cache = /root/.clearml/vcs-cache\r\n",
      "agent.docker_internal_mounts.venvs_cache = /root/.clearml/venvs-cache\r\n",
      "agent.docker_internal_mounts.venv_build = ~/.clearml/venvs-builds\r\n",
      "agent.docker_internal_mounts.pip_download = /root/.clearml/pip-download-cache\r\n",
      "agent.apply_environment = true\r\n",
      "agent.apply_files = true\r\n",
      "agent.custom_build_script = \r\n",
      "agent.disable_task_docker_override = false\r\n",
      "agent.git_user = Jacoo-Zhao\r\n",
      "agent.git_pass = ****\r\n",
      "agent.git_host = \r\n",
      "agent.default_python = 3.11\r\n",
      "agent.cuda_version = 0\r\n",
      "agent.cudnn_version = 0\r\n",
      "api.version = 1.5\r\n",
      "api.verify_certificate = true\r\n",
      "api.default_version = 1.5\r\n",
      "api.http.max_req_size = 15728640\r\n",
      "api.http.retries.total = 240\r\n",
      "api.http.retries.connect = 240\r\n",
      "api.http.retries.read = 240\r\n",
      "api.http.retries.redirect = 240\r\n",
      "api.http.retries.status = 240\r\n",
      "api.http.retries.backoff_factor = 1.0\r\n",
      "api.http.retries.backoff_max = 120.0\r\n",
      "api.http.wait_on_maintenance_forever = true\r\n",
      "api.http.pool_maxsize = 512\r\n",
      "api.http.pool_connections = 512\r\n",
      "api.auth.token_expiration_threshold_sec = ****\r\n",
      "api.api_server = https://api.clear.ml\r\n",
      "api.web_server = https://app.clear.ml/\r\n",
      "api.files_server = https://files.clear.ml\r\n",
      "api.credentials.access_key = OLF3VXOO765OFCAX1TUZ9L9HHGMIGJ\r\n",
      "api.credentials.secret_key = ****\r\n",
      "api.host = https://api.clear.ml\r\n",
      "sdk.storage.cache.default_base_dir = ~/.clearml/cache\r\n",
      "sdk.storage.cache.size.min_free_bytes = 10GB\r\n",
      "sdk.storage.direct_access.0.url = file://*\r\n",
      "sdk.metrics.file_history_size = 100\r\n",
      "sdk.metrics.matplotlib_untitled_history_size = 100\r\n",
      "sdk.metrics.images.format = JPEG\r\n",
      "sdk.metrics.images.quality = 87\r\n",
      "sdk.metrics.images.subsampling = 0\r\n",
      "sdk.metrics.tensorboard_single_series_per_graph = false\r\n",
      "sdk.network.metrics.file_upload_threads = 4\r\n",
      "sdk.network.metrics.file_upload_starvation_warning_sec = 120\r\n",
      "sdk.network.iteration.max_retries_on_server_error = 5\r\n",
      "sdk.network.iteration.retry_backoff_factor_sec = 10\r\n",
      "sdk.network.file_upload_retries = 3\r\n",
      "sdk.aws.s3.key = \r\n",
      "sdk.aws.s3.secret = ****\r\n",
      "sdk.aws.s3.region = \r\n",
      "sdk.aws.s3.use_credentials_chain = false\r\n",
      "sdk.aws.boto3.pool_connections = 512\r\n",
      "sdk.aws.boto3.max_multipart_concurrency = 16\r\n",
      "sdk.aws.boto3.multipart_threshold = 8388608\r\n",
      "sdk.aws.boto3.multipart_chunksize = 8388608\r\n",
      "sdk.google.storage.project = clearml\r\n",
      "sdk.google.storage.credentials_json = /path/to/credentials.json\r\n",
      "sdk.google.storage.credentials.0.bucket = \r\n",
      "sdk.google.storage.credentials.0.subdir = path/in/bucket\r\n",
      "sdk.google.storage.credentials.0.project = \r\n",
      "sdk.google.storage.credentials.0.credentials_json = /path/to/credentials.json\r\n",
      "sdk.log.null_log_propagate = false\r\n",
      "sdk.log.task_log_buffer_capacity = 66\r\n",
      "sdk.log.disable_urllib3_info = true\r\n",
      "sdk.development.task_reuse_time_window_in_hours = 72.0\r\n",
      "sdk.development.vcs_repo_detect_async = true\r\n",
      "sdk.development.store_uncommitted_code_diff = true\r\n",
      "sdk.development.support_stopping = true\r\n",
      "sdk.development.default_output_uri = \r\n",
      "sdk.development.force_analyze_entire_repo = false\r\n",
      "sdk.development.suppress_update_message = false\r\n",
      "sdk.development.detect_with_pip_freeze = false\r\n",
      "sdk.development.worker.report_period_sec = 2\r\n",
      "sdk.development.worker.ping_period_sec = 30\r\n",
      "sdk.development.worker.log_stdout = true\r\n",
      "sdk.development.worker.report_global_mem_used = false\r\n",
      "sdk.development.worker.report_event_flush_threshold = 100\r\n",
      "sdk.development.worker.console_cr_flush_period = 10\r\n",
      "sdk.development.artifacts.auto_pickle = true\r\n",
      "sdk.apply_environment = false\r\n",
      "sdk.apply_files = false\r\n",
      "venvs_cache.max_entries = 10\r\n",
      "venvs_cache.free_space_threshold_gb = 2.0\r\n",
      "\r\n",
      "Worker \"clearml-agent-mbp-c\" - Listening to queues:\r\n",
      "+----------------------------------+----------+-------+\r\n",
      "| id                               | name     | tags  |\r\n",
      "+----------------------------------+----------+-------+\r\n",
      "| 2c68b13da9ed4dd38ca03c3328def9fe | pipeline |       |\r\n",
      "+----------------------------------+----------+-------+\r\n",
      "\r\n",
      "Running CLEARML-AGENT daemon in background mode, writing stdout/stderr to /var/folders/vr/qxlmwftj13d5dbrvjy7j42_40000gp/T/.clearml_agent_daemon_out0fatt11v.txt\r\n"
     ]
    }
   ],
   "source": [
    "# You can start the agent from the terminal:\n",
    "! clearml-agent daemon --queue pipeline --detached"
   ]
  },
  {
   "cell_type": "markdown",
   "id": "0e0aec74",
   "metadata": {},
   "source": [
    "##  Run the Pipeline"
   ]
  },
  {
   "cell_type": "code",
   "execution_count": 27,
   "id": "b5f2de6b",
   "metadata": {
    "ExecuteTime": {
     "end_time": "2025-04-03T15:06:59.967707Z",
     "start_time": "2025-04-03T15:01:34.523197Z"
    }
   },
   "outputs": [
    {
     "name": "stdout",
     "output_type": "stream",
     "text": [
      "Hi, AI Studio\r\n",
      "ClearML Task: created new task id=d47faa6262774ea6828f6020e73ffcbe\r\n",
      "ClearML results page: https://app.clear.ml/projects/f9a69220c5f84be7be237596d15b2d8a/experiments/d47faa6262774ea6828f6020e73ffcbe/output/log\r\n",
      "WARNING:tensorflow:Please fix your imports. Module tensorflow.python.training.tracking.util has been moved to tensorflow.python.checkpoint.checkpoint. The old module will be deleted in version 2.11.\r\n",
      "ClearML pipeline page: https://app.clear.ml/pipelines/f9a69220c5f84be7be237596d15b2d8a/experiments/d47faa6262774ea6828f6020e73ffcbe\r\n",
      "Launching the next 1 steps\r\n",
      "Launching step [stage_data]\r\n",
      "Launching step: stage_data\r\n",
      "Parameters:\r\n",
      "{'General/dataset_url': '${pipeline.url}'}\r\n",
      "Configurations:\r\n",
      "{}\r\n",
      "Overrides:\r\n",
      "{}\r\n",
      "Launching the next 1 steps\r\n",
      "Launching step [stage_process]\r\n",
      "Cloning Task id=d0c40c01d6d84fa7826fa8f44dd7c110 with parameters: {'General/dataset_url': 'https://files.clear.ml/examples/.pipelines/Pipeline%20demo/stage_data.8e7123f518f244379884fe372a457bb4/artifacts/dataset/f6d08388e9bc44c86cab497ad31403c4.iris_dataset.pkl', 'General/test_size': 0.25}\r\n",
      "Launching step: stage_process\r\n",
      "Parameters:\r\n",
      "{'General/dataset_url': '${stage_data.artifacts.dataset.url}', 'General/test_size': 0.25}\r\n",
      "Configurations:\r\n",
      "{}\r\n",
      "Overrides:\r\n",
      "{}\r\n",
      "Completed Task id=cae54af37c6b4ac7a87c2f0ce39bd4aa\r\n",
      "Launching the next 1 steps\r\n",
      "Launching step [stage_train]\r\n",
      "Launching step: stage_train\r\n",
      "Parameters:\r\n",
      "{'General/dataset_task_id': '${stage_process.id}'}\r\n",
      "Configurations:\r\n",
      "{}\r\n",
      "Overrides:\r\n",
      "{}\r\n",
      "Launching the next 0 steps\r\n",
      "done\r\n"
     ]
    }
   ],
   "source": [
    "!python main.py"
   ]
  },
  {
   "cell_type": "markdown",
   "source": [
    "##  Shutdown the queue"
   ],
   "metadata": {
    "collapsed": false
   },
   "id": "fbadf52c6ef590f2"
  },
  {
   "cell_type": "code",
   "execution_count": 29,
   "outputs": [
    {
     "name": "stdout",
     "output_type": "stream",
     "text": [
      "Could not find a running clearml-agent instance with worker_name=brendvidafoxmailcomdeMacBook-Pro.local worker_id=clearml-agent-mbp-c\r\n"
     ]
    }
   ],
   "source": [
    "#clearml-agent daemon <queue_id> --stop\n",
    "!clearml-agent daemon --queue pipeline  --stop"
   ],
   "metadata": {
    "collapsed": false,
    "ExecuteTime": {
     "end_time": "2025-04-03T15:09:55.919299Z",
     "start_time": "2025-04-03T15:09:53.852513Z"
    }
   },
   "id": "374eb6226292051e"
  },
  {
   "cell_type": "markdown",
   "id": "7c59ceff",
   "metadata": {},
   "source": [
    "##  References\n",
    "\n",
    "- [ClearML Documentation](https://clear.ml/docs)\n",
    "- [ClearML Pipelines Guide](https://clear.ml/docs/latest/docs/getting_started/building_pipelines)\n",
    "- [ClearML GitHub](https://github.com/allegroai/clearml)\n"
   ]
  }
 ],
 "metadata": {
  "kernelspec": {
   "name": "python3",
   "language": "python",
   "display_name": "Python 3 (ipykernel)"
  }
 },
 "nbformat": 4,
 "nbformat_minor": 5
}
